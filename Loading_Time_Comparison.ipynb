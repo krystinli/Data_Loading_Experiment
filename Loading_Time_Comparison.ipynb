{
 "cells": [
  {
   "cell_type": "code",
   "execution_count": 9,
   "metadata": {},
   "outputs": [],
   "source": [
    "import pandas as pd\n",
    "import numpy as np\n",
    "import string \n",
    "import random \n",
    "import time"
   ]
  },
  {
   "cell_type": "markdown",
   "metadata": {},
   "source": [
    "### Generating a CSV file with random data"
   ]
  },
  {
   "cell_type": "code",
   "execution_count": 4,
   "metadata": {},
   "outputs": [
    {
     "data": {
      "text/plain": [
       "(1000000, 10)"
      ]
     },
     "execution_count": 4,
     "metadata": {},
     "output_type": "execute_result"
    }
   ],
   "source": [
    "# setting the number of rows for the CSV file (1M)\n",
    "N = 1000000\n",
    "\n",
    "# creating a pandas dataframe (df) with 8 columns and N rows with random integers between 999 and 999999 and with column names from A to H\n",
    "df = pd.DataFrame(\n",
    "    np.random.randint(9,999, size=(N, 7)), \n",
    "    columns=list('ABCDEFG'))\n",
    "\n",
    "# creating one column 'H' of float type using the uniform distribution\n",
    "df['H'] = np.random.rand(N)\n",
    "\n",
    "# creating two additional columns with random strings\n",
    "df['I'] = pd.util.testing.rands_array(10, N)\n",
    "df['J'] = pd.util.testing.rands_array(10, N)\n",
    "\n",
    "# expect: 1M rows x 10 columns\n",
    "df.shape"
   ]
  },
  {
   "cell_type": "code",
   "execution_count": 5,
   "metadata": {},
   "outputs": [],
   "source": [
    "# export the dataframe to csv ~75MB\n",
    "df.to_csv(\"test_data_1M.csv\")"
   ]
  },
  {
   "cell_type": "code",
   "execution_count": null,
   "metadata": {},
   "outputs": [],
   "source": [
    "start_time = time.time()\n",
    "do_something()\n",
    "print(\"%s seconds\" % (time.time() - start_time))"
   ]
  }
 ],
 "metadata": {
  "kernelspec": {
   "display_name": "Python (myenv)",
   "language": "python",
   "name": "data_analysis"
  },
  "language_info": {
   "codemirror_mode": {
    "name": "ipython",
    "version": 3
   },
   "file_extension": ".py",
   "mimetype": "text/x-python",
   "name": "python",
   "nbconvert_exporter": "python",
   "pygments_lexer": "ipython3",
   "version": "3.7.6"
  }
 },
 "nbformat": 4,
 "nbformat_minor": 2
}
